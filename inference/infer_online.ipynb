{
 "cells": [
  {
   "cell_type": "code",
   "execution_count": null,
   "id": "72602234",
   "metadata": {},
   "outputs": [],
   "source": [
    "from openai import OpenAI\n",
    "import requests\n",
    "\n",
    "# 修改 OpenAI 的 API 密钥和 API 基础 URL 以使用 vLLM 的 API 服务器。\n",
    "openai_api_key = \"EMPTY\"\n",
    "openai_api_base = \"http://localhost:8000/v1\"\n",
    "client = OpenAI(\n",
    "    api_key=openai_api_key,\n",
    "    base_url=openai_api_base,\n",
    ")\n",
    "def get_response(prompt):\n",
    "    completion = client.chat.completions.create(\n",
    "        # 模型列表：https://help.aliyun.com/zh/model-studio/getting-started/models\n",
    "        model=\"/root/autodl-tmp/quant/Qwen3-0.6B\",\n",
    "        messages=[\n",
    "            {\"role\": \"user\", \"content\": prompt},\n",
    "        ],\n",
    "        # Qwen3模型通过enable_thinking参数控制思考过程（开源版默认True，商业版默认False）\n",
    "        # 使用Qwen3开源版模型时，若未启用流式输出，请将下行取消注释，否则会报错\n",
    "        extra_body={\n",
    "            \"chat_template_kwargs\": {\"enable_thinking\": False}  # ✅ 严格关闭思考\n",
    "        }\n",
    "    )\n",
    "    return completion.choices[0].message.content"
   ]
  },
  {
   "cell_type": "code",
   "execution_count": null,
   "id": "436de79c",
   "metadata": {},
   "outputs": [],
   "source": [
    "get_response('你是谁?')"
   ]
  }
 ],
 "metadata": {
  "language_info": {
   "name": "python"
  }
 },
 "nbformat": 4,
 "nbformat_minor": 5
}
